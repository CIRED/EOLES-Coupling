{
 "cells": [
  {
   "cell_type": "code",
   "execution_count": 2,
   "metadata": {
    "collapsed": true,
    "ExecuteTime": {
     "end_time": "2023-12-13T14:51:02.115619Z",
     "start_time": "2023-12-13T14:51:02.072184Z"
    }
   },
   "outputs": [],
   "source": [
    "import numpy as np\n",
    "from matplotlib import pyplot as plt\n",
    "import seaborn as sns\n",
    "from pickle import load\n",
    "import os\n",
    "import pandas as pd\n",
    "pd.options.mode.chained_assignment = None  # default='warn'\n",
    "import datetime\n",
    "\n",
    "from eoles.write_output import comparison_simulations, comparison_simulations_new, plot_typical_week, plot_typical_demand, plot_residual_demand, colormap_simulations\n",
    "from pathlib import Path\n",
    "from project.write_output import plot_compare_scenarios"
   ]
  },
  {
   "cell_type": "markdown",
   "source": [
    "# Comparison policy scenarios costs"
   ],
   "metadata": {
    "collapsed": false
   }
  },
  {
   "cell_type": "code",
   "execution_count": 3,
   "outputs": [
    {
     "ename": "AttributeError",
     "evalue": "'NoneType' object has no attribute 'loc'",
     "output_type": "error",
     "traceback": [
      "\u001B[0;31m---------------------------------------------------------------------------\u001B[0m",
      "\u001B[0;31mAttributeError\u001B[0m                            Traceback (most recent call last)",
      "Cell \u001B[0;32mIn [3], line 54\u001B[0m\n\u001B[1;32m     48\u001B[0m total_system_costs_df, consumption_savings_tot_df, complete_system_costs_2050_df \u001B[38;5;241m=\u001B[39m comparison_simulations_new(\n\u001B[1;32m     49\u001B[0m     dict_output, ref\u001B[38;5;241m=\u001B[39m\u001B[38;5;124m\"\u001B[39m\u001B[38;5;124mPackage 2024\u001B[39m\u001B[38;5;124m\"\u001B[39m, greenfield\u001B[38;5;241m=\u001B[39m\u001B[38;5;28;01mFalse\u001B[39;00m, health\u001B[38;5;241m=\u001B[39m\u001B[38;5;28;01mTrue\u001B[39;00m, save_path\u001B[38;5;241m=\u001B[39mfolder, carbon_constraint\u001B[38;5;241m=\u001B[39m\u001B[38;5;28;01mTrue\u001B[39;00m, percent\u001B[38;5;241m=\u001B[39m\u001B[38;5;28;01mTrue\u001B[39;00m, y_min\u001B[38;5;241m=\u001B[39m\u001B[38;5;241m0\u001B[39m, x_min\u001B[38;5;241m=\u001B[39m\u001B[38;5;241m0\u001B[39m, x_max\u001B[38;5;241m=\u001B[39m\u001B[38;5;241m35\u001B[39m, rotation\u001B[38;5;241m=\u001B[39m\u001B[38;5;241m90\u001B[39m, coordinates\u001B[38;5;241m=\u001B[39m\u001B[38;5;28;01mNone\u001B[39;00m, smallest_size\u001B[38;5;241m=\u001B[39m\u001B[38;5;241m100\u001B[39m, biggest_size\u001B[38;5;241m=\u001B[39m\u001B[38;5;241m600\u001B[39m, fontsize\u001B[38;5;241m=\u001B[39m\u001B[38;5;241m20\u001B[39m, pdf\u001B[38;5;241m=\u001B[39m\u001B[38;5;28;01mFalse\u001B[39;00m, secondary_y\u001B[38;5;241m=\u001B[39m\u001B[38;5;124m'\u001B[39m\u001B[38;5;124mProportional\u001B[39m\u001B[38;5;124m'\u001B[39m,\n\u001B[1;32m     50\u001B[0m     secondary_axis_spec\u001B[38;5;241m=\u001B[39m{\u001B[38;5;124m'\u001B[39m\u001B[38;5;124my_min\u001B[39m\u001B[38;5;124m'\u001B[39m: \u001B[38;5;241m0\u001B[39m, \u001B[38;5;124m'\u001B[39m\u001B[38;5;124my_max\u001B[39m\u001B[38;5;124m'\u001B[39m: \u001B[38;5;241m120\u001B[39m, \u001B[38;5;124m'\u001B[39m\u001B[38;5;124mtitle\u001B[39m\u001B[38;5;124m'\u001B[39m: \u001B[38;5;124m'\u001B[39m\u001B[38;5;124mSubsidies (€/TWh)\u001B[39m\u001B[38;5;124m'\u001B[39m}, waterfall\u001B[38;5;241m=\u001B[39m\u001B[38;5;28;01mTrue\u001B[39;00m)\n\u001B[1;32m     52\u001B[0m \u001B[38;5;66;03m# # # Plots ResIRF\u001B[39;00m\n\u001B[1;32m     53\u001B[0m \u001B[38;5;66;03m# # # Problem to solve\u001B[39;00m\n\u001B[0;32m---> 54\u001B[0m \u001B[43mplot_compare_scenarios\u001B[49m\u001B[43m(\u001B[49m\u001B[43mresults_resirf\u001B[49m\u001B[43m,\u001B[49m\u001B[43m \u001B[49m\u001B[43mfolder\u001B[49m\u001B[38;5;241;43m=\u001B[39;49m\u001B[43mfolder\u001B[49m\u001B[43m,\u001B[49m\u001B[43m \u001B[49m\u001B[43mquintiles\u001B[49m\u001B[38;5;241;43m=\u001B[39;49m\u001B[38;5;28;43;01mTrue\u001B[39;49;00m\u001B[43m,\u001B[49m\u001B[43m \u001B[49m\u001B[43mreference\u001B[49m\u001B[38;5;241;43m=\u001B[39;49m\u001B[38;5;124;43m\"\u001B[39;49m\u001B[38;5;124;43mPackage 2024\u001B[39;49m\u001B[38;5;124;43m\"\u001B[39;49m\u001B[43m)\u001B[49m\n",
      "File \u001B[0;32m~/Documents/These/python_projects/Res-IRF4/project/write_output.py:546\u001B[0m, in \u001B[0;36mplot_compare_scenarios\u001B[0;34m(result, folder, quintiles, order_scenarios, reference, colors)\u001B[0m\n\u001B[1;32m    543\u001B[0m     os\u001B[38;5;241m.\u001B[39mmkdir(folder_img)\n\u001B[1;32m    545\u001B[0m \u001B[38;5;66;03m# ini\u001B[39;00m\n\u001B[0;32m--> 546\u001B[0m emission_ini \u001B[38;5;241m=\u001B[39m \u001B[43mresult\u001B[49m\u001B[38;5;241;43m.\u001B[39;49m\u001B[43mget\u001B[49m\u001B[43m(\u001B[49m\u001B[43mreference\u001B[49m\u001B[43m)\u001B[49m\u001B[38;5;241;43m.\u001B[39;49m\u001B[43mloc\u001B[49m[\u001B[38;5;124m'\u001B[39m\u001B[38;5;124mEmission (MtCO2)\u001B[39m\u001B[38;5;124m'\u001B[39m, :]\u001B[38;5;241m.\u001B[39miloc[\u001B[38;5;241m0\u001B[39m]\n\u001B[1;32m    547\u001B[0m consumption_ini \u001B[38;5;241m=\u001B[39m result\u001B[38;5;241m.\u001B[39mget(reference)\u001B[38;5;241m.\u001B[39mloc[\u001B[38;5;124m'\u001B[39m\u001B[38;5;124mConsumption (TWh)\u001B[39m\u001B[38;5;124m'\u001B[39m, :]\u001B[38;5;241m.\u001B[39miloc[\u001B[38;5;241m0\u001B[39m]\n\u001B[1;32m    548\u001B[0m energy_poverty_ini \u001B[38;5;241m=\u001B[39m result\u001B[38;5;241m.\u001B[39mget(reference)\u001B[38;5;241m.\u001B[39mloc[\u001B[38;5;124m'\u001B[39m\u001B[38;5;124mEnergy poverty (Million)\u001B[39m\u001B[38;5;124m'\u001B[39m, :]\u001B[38;5;241m.\u001B[39miloc[\u001B[38;5;241m0\u001B[39m]\n",
      "\u001B[0;31mAttributeError\u001B[0m: 'NoneType' object has no attribute 'loc'"
     ]
    },
    {
     "data": {
      "text/plain": "<Figure size 1280x960 with 1 Axes>",
      "image/png": "[encoded data removed]"
     },
     "metadata": {},
     "output_type": "display_data"
    }
   ],
   "source": [
    "# 1110 : with price feedback, OLD health costs\n",
    "sns.set_theme(context=\"talk\", style=\"white\", font_scale=1.3)\n",
    "dict_output = {\n",
    "     # '': {\n",
    "     #    \"Ambitious\": os.path.join(\"eoles/outputs/20231210/1211010909_biogasS3_capacityN1_demandReindustrialisation_profileReference_policyambitious\"),\n",
    "     #    \"Ban\": os.path.join(\"eoles/outputs/20231210/1211004148_biogasS3_capacityN1_demandReindustrialisation_profileReference_policyban\"),\n",
    "     #    \"Ban no policy\": os.path.join(\"eoles/outputs/20231210/1211004110_biogasS3_capacityN1_demandReindustrialisation_profileReference_policybannopolicy\"),\n",
    "     #     \"Ban ref\": os.path.join(\"eoles/outputs/20231210/1211010852_biogasS3_capacityN1_demandReindustrialisation_profileReference_policybanref\"),\n",
    "     #   # \"Carbon tax\": os.path.join(\"eoles/outputs/20231210/1211012604_biogasS3_capacityN1_demandReindustrialisation_profileReference_policycarbontax\"),\n",
    "     #    # \"Reference\": os.path.join(\"eoles/outputs/20231210/1211010746_biogasS3_capacityN1_demandReindustrialisation_profileReference_policyreference\"),\n",
    "     # },\n",
    "         '': {\n",
    "        \"Ambitious\": os.path.join(\"eoles/outputs/20231210/1211004316_biogasS3_capacityN1_demandReference_profileReference_policyambitious\"),\n",
    "        \"Ban\": os.path.join(\"eoles/outputs/20231210/1210235222_biogasS3_capacityN1_demandReference_profileReference_policyban\"),\n",
    "        \"Ban no policy\": os.path.join(\"eoles/outputs/20231210/1210235104_biogasS3_capacityN1_demandReference_profileReference_policybannopolicy\"),\n",
    "         \"Ban ref\": os.path.join(\"eoles/outputs/20231210/1211001733_biogasS3_capacityN1_demandReference_profileReference_policybanref\"),\n",
    "        \"Carbon tax\": os.path.join(\"eoles/outputs/20231210/1211010310_biogasS3_capacityN1_demandReference_profileReference_policycarbontax\"),\n",
    "        \"Reference\": os.path.join(\"eoles/outputs/20231210/1211004541_biogasS3_capacityN1_demandReference_profileReference_policyreference\"),\n",
    "     },\n",
    "}\n",
    "\n",
    "\n",
    "results_resirf = {}\n",
    "for scenario in dict_output.keys():\n",
    "    for path, name_config in zip(dict_output[scenario].values(), [n for n in dict_output[scenario].keys()]):\n",
    "        with open(os.path.join(path, 'coupling_results.pkl'), \"rb\") as file:\n",
    "            name_config_tot = scenario + ' ' + name_config\n",
    "            output = load(file)\n",
    "            results_resirf[name_config_tot] = output[\"Output global ResIRF ()\"].rename(columns={2049:2050})\n",
    "\n",
    "# for path, name_config in zip(dict_output.values(), [n for n in dict_output.keys()]):\n",
    "#     with open(os.path.join(path, 'coupling_results.pkl'), \"rb\") as file:\n",
    "#         output = load(file)\n",
    "#         results_resirf[name_config] = output[\"Output global ResIRF ()\"]\n",
    "\n",
    "folder=os.path.join(\"eoles/outputs/comparison/122023_ban\")\n",
    "# date = datetime.datetime.now().strftime(\"%m%d_%H%M%S\")\n",
    "# folder = os.path.join(folder, f'{date}_S3_N1')\n",
    "if not os.path.isdir(folder):\n",
    "    os.mkdir(folder)\n",
    "\n",
    "# Plots coupling\n",
    "# coordinates = {\n",
    "#     'Global renovation': (20, -20),\n",
    "#     'Proportional': (20, 5)\n",
    "# }\n",
    "\n",
    "total_system_costs_df, consumption_savings_tot_df, complete_system_costs_2050_df = comparison_simulations_new(\n",
    "    dict_output, ref=\"Reference\", greenfield=False, health=True, save_path=folder, carbon_constraint=True, percent=True, y_min=0, x_min=0, x_max=35, rotation=90, coordinates=None, smallest_size=100, biggest_size=600, fontsize=20, pdf=False, secondary_y='Proportional',\n",
    "    secondary_axis_spec={'y_min': 0, 'y_max': 120, 'title': 'Subsidies (€/TWh)'}, waterfall=True)\n",
    "\n",
    "# # # Plots ResIRF\n",
    "# # # Problem to solve\n",
    "plot_compare_scenarios(results_resirf, folder=folder, quintiles=True, reference=\" Reference\")"
   ],
   "metadata": {
    "collapsed": false,
    "ExecuteTime": {
     "end_time": "2023-12-13T14:51:06.976329Z",
     "start_time": "2023-12-13T14:51:03.343712Z"
    }
   }
  },
  {
   "cell_type": "markdown",
   "source": [
    "# Sensitivity analysis"
   ],
   "metadata": {
    "collapsed": false
   }
  },
  {
   "cell_type": "code",
   "execution_count": 4,
   "outputs": [],
   "source": [
    "total_system_costs_2050_df = colormap_simulations(overall_folder=Path('eoles') / Path('outputs') / Path('20231211'),\n",
    "                                                  config_ref=None,\n",
    "                                                  save_path=Path('eoles') / Path('outputs') / Path('20231211'),\n",
    "                                                  subset_configs=['Ban', 'BanRef', 'BanNoPolicy'],\n",
    "                                                  percent=True,\n",
    "                                                  reorder=['BanRef', 'BanNoPolicy'],\n",
    "                                                  dict_scenario={\n",
    "                                                      'BanRef': 'Package 2021 + Ban',\n",
    "                                                      'BanNoPolicy': 'No Policy + Ban'\n",
    "                                                  },\n",
    "                                                  dict_config_demandsupply={\n",
    "                                                      'Elasticity-': 'Lower Elasticity HP',\n",
    "                                                      'LearningHP+': 'Technical Progress HP',\n",
    "                                                      'biogasBiogas-': 'Lower Biogas Potential',\n",
    "                                                      'capaNuc-': 'Lower Nuclear Potential',\n",
    "                                                      'capaRen-': 'Lower Renewable Potential',\n",
    "                                                      'capaRen+': 'Higher Renewable Potential',\n",
    "                                                      'costscostsREN+': 'Higher Renewable Costs',\n",
    "                                                      'demandReindustrialisation': 'Higher Electricity Demand',\n",
    "                                                      'demandSobriete': 'Lower Electricity Demand',\n",
    "                                                      'weather2012': 'Colder Weather'\n",
    "                                                  }\n",
    "                                                    )"
   ],
   "metadata": {
    "collapsed": false,
    "ExecuteTime": {
     "end_time": "2023-12-13T12:17:37.366088Z",
     "start_time": "2023-12-13T12:17:36.683564Z"
    }
   }
  },
  {
   "cell_type": "code",
   "execution_count": null,
   "outputs": [],
   "source": [],
   "metadata": {
    "collapsed": false
   }
  },
  {
   "cell_type": "markdown",
   "source": [
    "# Hourly balance"
   ],
   "metadata": {
    "collapsed": false
   }
  },
  {
   "cell_type": "code",
   "execution_count": 35,
   "outputs": [
    {
     "data": {
      "text/plain": "<Figure size 1280x960 with 1 Axes>",
      "image/png": "[encoded data removed]"
     },
     "metadata": {},
     "output_type": "display_data"
    }
   ],
   "source": [
    "sns.set_theme(context=\"talk\", style=\"white\")\n",
    "\n",
    "hourly_generation = pd.read_csv(\"eoles/outputs/20231210/1211004110_biogasS3_capacityN1_demandReindustrialisation_profileReference_policybannopolicy/dataframes/hourly_generation_2050.csv\", index_col=0)\n",
    "\n",
    "climate = 2006\n",
    "\n",
    "date_start, date_end = datetime.datetime(2006, 2, 7, 0, 0), datetime.datetime(2006, 2, 14, 0, 0)\n",
    "plot_typical_week(hourly_generation, date_start, date_end, climate, save_path=None, methane=False, hydrogen=True)"
   ],
   "metadata": {
    "collapsed": false,
    "ExecuteTime": {
     "end_time": "2023-12-13T10:03:52.580821Z",
     "start_time": "2023-12-13T10:03:33.651938Z"
    }
   }
  },
  {
   "cell_type": "code",
   "execution_count": 2,
   "outputs": [],
   "source": [
    "date_start, date_end = datetime.datetime(2006, 6, 7, 0, 0), datetime.datetime(2006, 6, 14, 0, 0)\n",
    "plot_typical_week(hourly_generation, date_start, date_end, climate, save_path=None, methane=False, hydrogen=True)"
   ],
   "metadata": {
    "collapsed": false,
    "ExecuteTime": {
     "end_time": "2023-12-12T16:20:31.795401Z",
     "start_time": "2023-12-12T16:20:31.495628Z"
    }
   }
  },
  {
   "cell_type": "code",
   "execution_count": 29,
   "outputs": [],
   "source": [
    "hourly_generation.loc[(hourly_generation.hydrogen_in > 0) & (hourly_generation.hydrogen > 0)]"
   ],
   "metadata": {
    "collapsed": false,
    "ExecuteTime": {
     "end_time": "2023-12-13T08:44:13.846620Z",
     "start_time": "2023-12-13T08:44:13.620146Z"
    }
   }
  },
  {
   "cell_type": "code",
   "execution_count": 30,
   "outputs": [
    {
     "data": {
      "text/plain": "count    8760.000000\nmean        4.584872\nstd         2.991499\nmin         0.000000\n25%         4.212162\n50%         4.566210\n75%         6.055786\nmax         8.953740\nName: electrolysis, dtype: float64"
     },
     "execution_count": 30,
     "metadata": {},
     "output_type": "execute_result"
    }
   ],
   "source": [
    "hourly_generation.hydrogen_charge.plot()"
   ],
   "metadata": {
    "collapsed": false,
    "ExecuteTime": {
     "end_time": "2023-12-13T08:44:17.562299Z",
     "start_time": "2023-12-13T08:44:17.556198Z"
    }
   }
  },
  {
   "cell_type": "code",
   "execution_count": 31,
   "outputs": [],
   "source": [
    "hourly_generation.hydrogen.iloc[0:1000].plot()"
   ],
   "metadata": {
    "collapsed": false,
    "ExecuteTime": {
     "end_time": "2023-12-13T08:44:22.807140Z",
     "start_time": "2023-12-13T08:44:22.576302Z"
    }
   }
  },
  {
   "cell_type": "code",
   "execution_count": 34,
   "outputs": [
    {
     "data": {
      "text/plain": "0       28.181125\n1       29.091650\n2       29.437800\n3       29.430275\n4       29.106700\n          ...    \n8755    24.034850\n8756    24.080000\n8757    23.929500\n8758    23.666125\n8759    23.417800\nName: offshore_f, Length: 8760, dtype: float64"
     },
     "execution_count": 34,
     "metadata": {},
     "output_type": "execute_result"
    }
   ],
   "source": [
    "begin, end = 4000, 4050\n",
    "hourly_generation.hydrogen_in.iloc[begin:end].plot(label='hydrogen_in')\n",
    "hourly_generation.hydrogen.iloc[begin:end].plot(label='hydrogen_in')\n",
    "hourly_generation.electrolysis.iloc[begin:end].plot(c='black', label='electrolysis')\n",
    "hourly_generation.H2_demand.iloc[begin:end].plot(c='red')"
   ],
   "metadata": {
    "collapsed": false,
    "ExecuteTime": {
     "end_time": "2023-12-13T08:46:30.344743Z",
     "start_time": "2023-12-13T08:46:30.341507Z"
    }
   }
  },
  {
   "cell_type": "code",
   "execution_count": 6,
   "outputs": [],
   "source": [
    "hourly_generation.hydrogen_in.describe()"
   ],
   "metadata": {
    "collapsed": false,
    "ExecuteTime": {
     "end_time": "2023-12-12T17:04:32.416029Z",
     "start_time": "2023-12-12T17:04:32.215517Z"
    }
   }
  },
  {
   "cell_type": "code",
   "execution_count": null,
   "outputs": [],
   "source": [],
   "metadata": {
    "collapsed": false
   }
  }
 ],
 "metadata": {
  "kernelspec": {
   "display_name": "Python 3",
   "language": "python",
   "name": "python3"
  },
  "language_info": {
   "codemirror_mode": {
    "name": "ipython",
    "version": 2
   },
   "file_extension": ".py",
   "mimetype": "text/x-python",
   "name": "python",
   "nbconvert_exporter": "python",
   "pygments_lexer": "ipython2",
   "version": "2.7.6"
  }
 },
 "nbformat": 4,
 "nbformat_minor": 0
}
