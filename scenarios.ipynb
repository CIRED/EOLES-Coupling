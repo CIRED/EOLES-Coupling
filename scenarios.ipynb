{
 "cells": [
  {
   "cell_type": "code",
   "execution_count": 8,
   "metadata": {
    "collapsed": true,
    "ExecuteTime": {
     "end_time": "2024-02-20T18:58:05.020955Z",
     "start_time": "2024-02-20T18:58:05.015567Z"
    }
   },
   "outputs": [],
   "source": [
    "import pandas as pd\n",
    "import os\n",
    "from pathlib import Path\n",
    "from datetime import datetime, timedelta\n",
    "import json\n",
    "from copy import deepcopy"
   ]
  },
  {
   "cell_type": "code",
   "execution_count": 9,
   "outputs": [
    {
     "data": {
      "text/plain": "'eoles/inputs/xps/20240221/settings_framework.json'"
     },
     "execution_count": 9,
     "metadata": {},
     "output_type": "execute_result"
    }
   ],
   "source": [
    "folder = Path('eoles') / Path('inputs') / Path('xps')\n",
    "\n",
    "date = datetime.now()\n",
    "date = date.strftime(\"%Y%m%d\")  # formatting\n",
    "folder = folder / Path(str(date))\n",
    "\n",
    "# add one day to date object\n",
    "# date = date + timedelta(days=1)\n",
    "# check if folder is a folder with library pathlib\n",
    "folder.mkdir(parents=True, exist_ok=True)\n",
    "\n",
    "base = {\n",
    "    \"no_subsidies\": True,\n",
    "    \"subsidies_specified\": False,\n",
    "    \"calibration\": True,\n",
    "    \"max_iter\": 100,\n",
    "    \"health\": True,\n",
    "    \"discount_rate\": 0.032,\n",
    "    \"weather_year\": 2006,\n",
    "    \"carbon_constraint\": True,\n",
    "    \"fix_sub_heater\": False,\n",
    "    \"fix_sub_insulation\": False,\n",
    "    \"list_year\": [2020, 2025, 2030, 2035, 2040, 2045],\n",
    "    \"list_trajectory_scc\": [0, 250, 350, 500, 650, 775],\n",
    "    \"eoles\": {\n",
    "        \"biomass_potential_scenario\": \"S3\",\n",
    "        \"aggregated_potential\": True,\n",
    "        \"maximum_capacity_scenario\": \"N1\"\n",
    "    },\n",
    "    \"subsidy\": {\n",
    "            \"proportional_uniform\": None,\n",
    "            \"heater\": {\n",
    "                \"policy\": \"subsidy_ad_valorem\",\n",
    "                \"proportional\": None,\n",
    "                \"cap\": None\n",
    "            },\n",
    "            \"insulation\": {\n",
    "                \"policy\": \"subsidy_ad_valorem\",\n",
    "                \"rational_behavior\": False,\n",
    "                \"target\": None,\n",
    "                \"proportional\": None,\n",
    "                \"cap\": None\n",
    "            }\n",
    "    },\n",
    "    \"scenario_cost_eoles\": {\n",
    "        \"fix_capacities\": {\n",
    "            \"uiom\": 0,\n",
    "            \"CTES\": 0\n",
    "        }\n",
    "    }\n",
    "}\n",
    "\n",
    "folder_base = folder / Path('base.json')\n",
    "with open(folder_base, \"w\") as outfile:\n",
    "    outfile.write(json.dumps(base, indent=4))\n"
   ],
   "metadata": {
    "collapsed": false,
    "ExecuteTime": {
     "end_time": "2024-02-20T18:58:05.342948Z",
     "start_time": "2024-02-20T18:58:05.337995Z"
    }
   }
  },
  {
   "cell_type": "code",
   "outputs": [],
   "source": [
    "scenarios = {\n",
    "    'biogas': ['reference', 'Biogas-'],\n",
    "    'capacity': ['reference', 'Nuc-', 'Ren-'],\n",
    "    # 'demand': ['reference', 'Sufficiency', 'Reindustrialisation'],\n",
    "    'policy': ['Ban', 'BanNoPolicy', 'Package2024', 'NoPolicy'],\n",
    "    'learning': ['reference', 'Learning+'],\n",
    "    # 'profile': ['reference', 'ProfileFlat'],\n",
    "    'elasticity': ['reference', 'Elasticity-']\n",
    "}\n",
    "\n",
    "map_values = {\n",
    "    'Biogas-': 'S2',\n",
    "    'Nuc-': 'N1nuc',\n",
    "    'Ren-': 'N1ren2',\n",
    "    'Sufficiency': 'Sobriete',\n",
    "    'Reindustrialisation': 'Reindustrialisation',\n",
    "    'Ban': {\n",
    "        \"file\": \"project/input/policies/policies_2024.json\",\n",
    "        \"restriction_gas\": {\n",
    "            \"start\": 2025,\n",
    "            \"end\": 2051,\n",
    "            \"value\": \"Natural gas\",\n",
    "            \"policy\": \"restriction_energy\"\n",
    "    }},\n",
    "    'BanNoPolicy':  {\n",
    "            \"file\": \"project/input/policies/policies_calibration.json\",\n",
    "            \"restriction_gas\": {\n",
    "                \"start\": 2025,\n",
    "                \"end\": 2051,\n",
    "                \"value\": \"Natural gas\",\n",
    "                \"policy\": \"restriction_energy\"\n",
    "    }},\n",
    "    'Package2024': {\n",
    "            \"file\": \"project/input/policies/policies_2024.json\"\n",
    "    },\n",
    "    'NoPolicy': {\n",
    "            \"file\": \"project/input/policies/policies_calibration.json\"\n",
    "    },\n",
    "    'Learning+': {\n",
    "          \"technical_progress\": {\n",
    "            \"heater\": {\n",
    "              \"activated\": True,\n",
    "              \"start\": 2019,\n",
    "              \"end\": 2035,\n",
    "              \"value_end\": -0.5\n",
    "            }\n",
    "          }\n",
    "        },\n",
    "    'ProfileFlat': {\n",
    "            \"hourly_profile\": \"project/input/technical/hourly_profile_flat.csv\"\n",
    "        },\n",
    "    'Elasticity-': {\n",
    "          \"scale\": {\n",
    "            \"option\": \"price_elasticity\",\n",
    "            \"target\": -0.5\n",
    "          }}\n",
    "}\n",
    "\n",
    "mapping_scenarios_to_configs = {\n",
    "    'biogas': ['supply', 'biomass_potential_scenario'],\n",
    "    'capacity': ['supply', 'maximum_capacity_scenario'],\n",
    "    'policy': ['policies'],\n",
    "    'demand': ['supply', 'demand_scenario'],\n",
    "    'technical': ['demand'],\n",
    "    'learning': ['demand', 'technical'],\n",
    "    'profile': ['demand', 'technical'],\n",
    "    'elasticity': ['demand', 'switch_heater']\n",
    "}\n",
    "\n"
   ],
   "metadata": {
    "collapsed": false,
    "ExecuteTime": {
     "end_time": "2024-02-20T19:06:11.358483Z",
     "start_time": "2024-02-20T19:06:11.354516Z"
    }
   },
   "execution_count": 21
  },
  {
   "cell_type": "code",
   "outputs": [],
   "source": [
    "keys, values = zip(*scenarios.items())"
   ],
   "metadata": {
    "collapsed": false,
    "ExecuteTime": {
     "end_time": "2024-02-20T19:06:14.026577Z",
     "start_time": "2024-02-20T19:06:14.023243Z"
    }
   },
   "execution_count": 10
  },
  {
   "cell_type": "code",
   "outputs": [],
   "source": [
    "import itertools\n",
    "permutations_names = [dict(zip(keys, v)) for v in itertools.product(*values)]\n",
    "permutations_names = {'S{}'.format(n): v for n, v in enumerate(permutations_names)}"
   ],
   "metadata": {
    "collapsed": false,
    "ExecuteTime": {
     "end_time": "2024-02-20T19:06:14.400116Z",
     "start_time": "2024-02-20T19:06:14.397384Z"
    }
   },
   "execution_count": 11
  },
  {
   "cell_type": "code",
   "outputs": [],
   "source": [
    "config_additional = {\n",
    "    \"name_config\": \"reference\",\n",
    "    \"policies\": {\n",
    "        \"file\": \"project/input/policies/current/policies_ambitious.json\"\n",
    "    },\n",
    "    \"greenfield\": False,\n",
    "    \"prices_constant\": False,\n",
    "    \"price_feedback\": True,\n",
    "    \"biomass_potential_scenario\": \"S3\",\n",
    "    \"aggregated_potential\": True,\n",
    "    \"maximum_capacity_scenario\": \"N1\",\n",
    "    \"lifetime_insulation\": 5,\n",
    "    \"subsidies_heater\": None,\n",
    "    \"subsidies_insulation\": None,\n",
    "    \"optim_eoles\": True,\n",
    "    \"carbon_budget\": \"carbon_budget_tight\",\n",
    "    \"district_heating_potential\": None,\n",
    "    \"dict_configs\": None,\n",
    "    \"cap_MWh\": 1000,\n",
    "    \"cap_tCO2\": 2000,\n",
    "    \"demand_scenario\": \"Reference\",\n",
    "    \"method_health_cost\": \"epc\"\n",
    "}\n",
    "\n",
    "for key, values in permutations_names.items():  #key: 'S0', values= 'biogas'\n",
    "    new_config = config_additional.copy()\n",
    "    new_config['name_config'] = key\n",
    "    for i,v in values.items():  # i: 'biogas', v: 'Biogas-'\n",
    "        if v == 'reference':  # no modification to the configuration\n",
    "            pass\n",
    "        else:\n",
    "            if mapping_scenarios_to_configs[i][0] == 'supply':\n",
    "                new_config[mapping_scenarios_to_configs[i][1]] = deepcopy(map_values[v])\n",
    "                # print(new_config)\n",
    "            elif mapping_scenarios_to_configs[i][0] == 'demand':\n",
    "                if mapping_scenarios_to_configs[i][1] in new_config.keys():\n",
    "                    new_config[mapping_scenarios_to_configs[i][1]].update(deepcopy(map_values[v]))\n",
    "                else:\n",
    "                    new_config[mapping_scenarios_to_configs[i][1]] = deepcopy(map_values[v])\n",
    "            elif mapping_scenarios_to_configs[i][0] == 'policies':\n",
    "                new_config['policies'] = deepcopy(map_values[v])\n",
    "            else:\n",
    "                raise KeyError('Key not found')\n",
    "    folder_additional = folder / Path(key + '.json')\n",
    "    with open(folder_additional, \"w\") as outfile:\n",
    "        outfile.write(json.dumps(new_config, indent=4))\n",
    "\n",
    "pd.DataFrame.from_dict(permutations_names, orient='index').to_csv(folder / Path('scenarios.csv'))"
   ],
   "metadata": {
    "collapsed": false,
    "ExecuteTime": {
     "end_time": "2024-02-20T19:06:19.153897Z",
     "start_time": "2024-02-20T19:06:19.125547Z"
    }
   },
   "execution_count": 20
  },
  {
   "cell_type": "code",
   "execution_count": 19,
   "outputs": [
    {
     "data": {
      "text/plain": "False"
     },
     "execution_count": 19,
     "metadata": {},
     "output_type": "execute_result"
    }
   ],
   "source": [],
   "metadata": {
    "collapsed": false
   }
  }
 ],
 "metadata": {
  "kernelspec": {
   "display_name": "Python 3",
   "language": "python",
   "name": "python3"
  },
  "language_info": {
   "codemirror_mode": {
    "name": "ipython",
    "version": 2
   },
   "file_extension": ".py",
   "mimetype": "text/x-python",
   "name": "python",
   "nbconvert_exporter": "python",
   "pygments_lexer": "ipython2",
   "version": "2.7.6"
  }
 },
 "nbformat": 4,
 "nbformat_minor": 0
}
