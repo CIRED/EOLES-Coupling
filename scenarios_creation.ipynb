{
 "cells": [
  {
   "cell_type": "code",
   "execution_count": 16,
   "metadata": {
    "collapsed": true,
    "ExecuteTime": {
     "end_time": "2023-11-28T15:47:50.883935Z",
     "start_time": "2023-11-28T15:47:50.880340Z"
    }
   },
   "outputs": [],
   "source": [
    "import pandas as pd\n",
    "import os\n",
    "from pathlib import Path\n",
    "from datetime import datetime\n",
    "import json"
   ]
  },
  {
   "cell_type": "code",
   "execution_count": 39,
   "outputs": [],
   "source": [
    "folder = Path('eoles') / Path('inputs') / Path('xps')\n",
    "\n",
    "date = datetime.now().strftime(\"%Y%m%d\")\n",
    "folder = folder / Path(str(date))\n",
    "\n",
    "# check if folder is a folder with library pathlib\n",
    "folder.mkdir(parents=True, exist_ok=True)\n",
    "\n",
    "base = {\n",
    "    \"no_subsidies\": True,\n",
    "    \"subsidies_specified\": False,\n",
    "    \"calibration\": True,\n",
    "    \"max_iter\": 100,\n",
    "    \"health\": True,\n",
    "    \"discount_rate\": 0.032,\n",
    "    \"carbon_constraint\": True,\n",
    "    \"fix_sub_heater\": False,\n",
    "    \"fix_sub_insulation\": False,\n",
    "    \"list_year\": [2020, 2025, 2030, 2035, 2040, 2045],\n",
    "    \"list_trajectory_scc\": [0, 250, 350, 500, 650, 775],\n",
    "    \"eoles\": {\n",
    "        \"biomass_potential_scenario\": \"S3\",\n",
    "        \"aggregated_potential\": True,\n",
    "        \"maximum_capacity_scenario\": \"N1\"\n",
    "    },\n",
    "    \"subsidy\": {\n",
    "            \"proportional_uniform\": None,\n",
    "            \"heater\": {\n",
    "                \"policy\": \"subsidy_ad_valorem\",\n",
    "                \"proportional\": None,\n",
    "                \"cap\": None\n",
    "            },\n",
    "            \"insulation\": {\n",
    "                \"policy\": \"subsidy_ad_valorem\",\n",
    "                \"rational_behavior\": False,\n",
    "                \"target\": None,\n",
    "                \"proportional\": None,\n",
    "                \"cap\": None\n",
    "            }\n",
    "    },\n",
    "    \"scenario_cost_eoles\": {\n",
    "        \"fix_capacities\": {\n",
    "            \"uiom\": 0,\n",
    "            \"CTES\": 0\n",
    "        }\n",
    "    }\n",
    "}\n",
    "\n",
    "folder_base = folder / Path('base.json')\n",
    "with open(folder_base, \"w\") as outfile:\n",
    "    outfile.write(json.dumps(base, indent=4))\n",
    "\n",
    "name_mapping = {\n",
    "    'biomass_potential_scenario': 'biogas',\n",
    "    'maximum_capacity_scenario': 'capacity'\n",
    "}\n",
    "\n",
    "dict_supply = {\n",
    "    'biomass_potential_scenario': ['S3', 'S2'],\n",
    "    'maximum_capacity_scenario': ['N1nuc', 'N1ren2']\n",
    "}\n",
    "\n",
    "dict_demand = {\n",
    "    'ban': {\n",
    "            \"file\": \"project/input/policies/current/policies_ambitious.json\",\n",
    "            \"restriction_gas\": {\n",
    "                \"start\": 2025,\n",
    "                \"end\": 2051,\n",
    "                \"value\": \"Natural gas\",\n",
    "                \"policy\": \"restriction_energy\"\n",
    "        }},\n",
    "    'ambitious':\n",
    "        {\n",
    "            \"file\": \"project/input/policies/current/policies_ambitious.json\"\n",
    "        }\n",
    "}"
   ],
   "metadata": {
    "collapsed": false,
    "ExecuteTime": {
     "end_time": "2023-11-28T15:56:18.551868Z",
     "start_time": "2023-11-28T15:56:18.547119Z"
    }
   }
  },
  {
   "cell_type": "code",
   "execution_count": 40,
   "outputs": [],
   "source": [
    "config_additional = {\n",
    "    \"name_config\": \"biogasS3_capacityN1_hcDPE_cc\",\n",
    "    \"policies\": {\n",
    "        \"file\": \"project/input/policies/current/policies_ambitious.json\"\n",
    "    },\n",
    "    \"greenfield\": False,\n",
    "    \"prices_constant\": False,\n",
    "    \"price_feedback\": True,\n",
    "    \"biomass_potential_scenario\": \"S3\",\n",
    "    \"aggregated_potential\": True,\n",
    "    \"maximum_capacity_scenario\": \"N1\",\n",
    "    \"lifetime_insulation\": 5,\n",
    "    \"subsidies_heater\": None,\n",
    "    \"subsidies_insulation\": None,\n",
    "    \"optim_eoles\": True,\n",
    "    \"carbon_budget\": \"carbon_budget_tight_convex\",\n",
    "    \"district_heating_potential\": None,\n",
    "    \"dict_configs\": None,\n",
    "    \"cap_MWh\": 1000,\n",
    "    \"cap_tCO2\": 2000,\n",
    "    \"demand_scenario\": \"Reference\",\n",
    "    \"method_health_cost\": \"epc\"\n",
    "}\n",
    "\n",
    "list_configs = []\n",
    "for supply, scenario in dict_supply.items():\n",
    "    for s in scenario:\n",
    "        for demand, policy in dict_demand.items():\n",
    "            new_config = config_additional.copy()\n",
    "            new_config[supply] = s\n",
    "            new_config['policies'] = policy\n",
    "            new_name = name_mapping[supply] + s\n",
    "            name_config = '_'.join([new_name if name_mapping[supply] in x else x for x in new_config['name_config'].split('_')])\n",
    "            name_config = name_config + f'_policy{demand}'\n",
    "            new_config['name_config'] = name_config\n",
    "            list_configs.append(new_config)\n",
    "            folder_additional = folder / Path(name_config + '.json')\n",
    "            with open(folder_additional, \"w\") as outfile:\n",
    "                outfile.write(json.dumps(new_config, indent=4))"
   ],
   "metadata": {
    "collapsed": false,
    "ExecuteTime": {
     "end_time": "2023-11-28T15:56:19.829101Z",
     "start_time": "2023-11-28T15:56:19.824117Z"
    }
   }
  },
  {
   "cell_type": "code",
   "execution_count": null,
   "outputs": [],
   "source": [],
   "metadata": {
    "collapsed": false
   }
  }
 ],
 "metadata": {
  "kernelspec": {
   "display_name": "Python 3",
   "language": "python",
   "name": "python3"
  },
  "language_info": {
   "codemirror_mode": {
    "name": "ipython",
    "version": 2
   },
   "file_extension": ".py",
   "mimetype": "text/x-python",
   "name": "python",
   "nbconvert_exporter": "python",
   "pygments_lexer": "ipython2",
   "version": "2.7.6"
  }
 },
 "nbformat": 4,
 "nbformat_minor": 0
}
