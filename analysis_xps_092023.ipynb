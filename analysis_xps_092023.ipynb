{
 "cells": [
  {
   "cell_type": "code",
   "execution_count": 1,
   "outputs": [],
   "source": [
    "import numpy as np\n",
    "from matplotlib import pyplot as plt\n",
    "import seaborn as sns\n",
    "from pickle import load\n",
    "import os\n",
    "\n",
    "from eoles.write_output import comparison_simulations\n",
    "from project.write_output import plot_compare_scenarios"
   ],
   "metadata": {
    "collapsed": false,
    "ExecuteTime": {
     "end_time": "2023-09-05T08:56:13.203849Z",
     "start_time": "2023-09-05T08:56:13.181002Z"
    }
   }
  },
  {
   "cell_type": "code",
   "execution_count": null,
   "outputs": [],
   "source": [],
   "metadata": {
    "collapsed": false
   }
  },
  {
   "cell_type": "code",
   "execution_count": 5,
   "metadata": {
    "collapsed": true,
    "ExecuteTime": {
     "end_time": "2023-09-05T08:58:11.946143Z",
     "start_time": "2023-09-05T08:57:57.868002Z"
    }
   },
   "outputs": [],
   "source": [
    "sns.set_theme(context=\"talk\", style=\"white\", font_scale=2)\n",
    "dict_output = {\"Uniform\": os.path.join(\"eoles/outputs/0828_S3_N1/0826_225609_uniform_S3_N1\"),\n",
    "               \"Uniform 2y\": os.path.join(\"eoles/outputs/0828_S3_N1/0828_004316_uniform_S3_N1_2y\"),\n",
    "               # \"No subsidy heater\": os.path.join(\"eoles/outputs/0429_080811_no_subsidy_heater_greenfield\"),\n",
    "               # \"No subsidy insulation\": os.path.join(\"eoles/outputs/0429_083155_no_subsidy_insulation_greenfield\"),\n",
    "               \"Deep renovation\": os.path.join(\"eoles/outputs/0828_S3_N1/0826_230609_GR_S3_N1\"),\n",
    "               \"Deep renovation 2y\": os.path.join(\"eoles/outputs/0828_S3_N1/0828_005742_GR_S3_N1_2y\"),\n",
    "               # \"Global renovation low income\": os.path.join(\"eoles/outputs/0504_greenfield_S3_N1/0505_085156_GR_low_income_greenfield_S3_N1\"),\n",
    "               # \"Global renovation \\n FGE\": os.path.join(\"eoles/outputs/0510_S3_N1/0509_223231_GR_fge_S3_N1\"),\n",
    "               # \"MWh_tCO2\": os.path.join(\"eoles/outputs/0510_S3_N1/0509_221317_MWh_tCO2_S3_N1\"),\n",
    "               # \"Proportional\": os.path.join(\"eoles/outputs/0510_S3_N1/0511_035113_MWh_insulation_S3_N1\"),\n",
    "               \"Insulation technical \\n optimum\": os.path.join(\"eoles/outputs/0828_S3_N1/0826_154702_centralized_insulation_S3_N1\"),\n",
    "               \"Insulation technical \\n optimum 2y\": os.path.join(\"eoles/outputs/0828_S3_N1/0827_154945_centralized_insulation_S3_N1_2y\"),\n",
    "               # \"MWh\": os.path.join(\"eoles/outputs/0506_greenfield_S3_N1/0509_130427_MWh_insulation_greenfield_S3_N1\"),\n",
    "               }\n",
    "\n",
    "results_resirf = {}\n",
    "for path, name_config in zip(dict_output.values(), [n for n in dict_output.keys()]):\n",
    "    with open(os.path.join(path, 'coupling_results.pkl'), \"rb\") as file:\n",
    "        output = load(file)\n",
    "        results_resirf[name_config] = output[\"Output global ResIRF ()\"]\n",
    "\n",
    "folder=os.path.join(\"eoles/outputs/comparison/0905_S3_N1\")\n",
    "# date = datetime.datetime.now().strftime(\"%m%d_%H%M%S\")\n",
    "# folder = os.path.join(folder, f'{date}_S3_N1')\n",
    "if not os.path.isdir(folder):\n",
    "    os.mkdir(folder)\n",
    "\n",
    "# Plots coupling\n",
    "# coordinates = {\n",
    "#     'Global renovation': (20, -20),\n",
    "#     'Proportional': (20, 5)\n",
    "# }\n",
    "\n",
    "total_system_costs_df, consumption_savings_tot_df, complete_system_costs_2050_df = comparison_simulations(\n",
    "    dict_output, ref=\"Uniform\", greenfield=True, health=True, save_path=folder, carbon_constraint=True, percent=True, y_min=0, x_min=0, x_max=35, rotation=90, coordinates=None, smallest_size=100, biggest_size=600, fontsize=20, pdf=True)\n",
    "\n",
    "# # Plots ResIRF\n",
    "results_resirf[\"Reference\"] = results_resirf.pop(\"Uniform\")\n",
    "plot_compare_scenarios(results_resirf, folder=folder, quintiles=True)"
   ]
  },
  {
   "cell_type": "code",
   "execution_count": 8,
   "outputs": [],
   "source": [
    "sns.set_theme(context=\"talk\", style=\"white\", font_scale=2)\n",
    "dict_output = {# \"Uniform\": os.path.join(\"eoles/outputs/0828_S3_N1/0826_225609_uniform_S3_N1\"),\n",
    "               \"Uniform 2y\": os.path.join(\"eoles/outputs/0828_S3_N1/0828_004316_uniform_S3_N1_2y\"),\n",
    "               # \"No subsidy heater\": os.path.join(\"eoles/outputs/0429_080811_no_subsidy_heater_greenfield\"),\n",
    "               # \"No subsidy insulation\": os.path.join(\"eoles/outputs/0429_083155_no_subsidy_insulation_greenfield\"),\n",
    "               # \"Deep renovation\": os.path.join(\"eoles/outputs/0828_S3_N1/0826_230609_GR_S3_N1\"),\n",
    "               \"Deep renovation 2y\": os.path.join(\"eoles/outputs/0828_S3_N1/0828_005742_GR_S3_N1_2y\"),\n",
    "               # \"Global renovation low income\": os.path.join(\"eoles/outputs/0504_greenfield_S3_N1/0505_085156_GR_low_income_greenfield_S3_N1\"),\n",
    "               # \"Global renovation \\n FGE\": os.path.join(\"eoles/outputs/0510_S3_N1/0509_223231_GR_fge_S3_N1\"),\n",
    "               # \"MWh_tCO2\": os.path.join(\"eoles/outputs/0510_S3_N1/0509_221317_MWh_tCO2_S3_N1\"),\n",
    "               # \"Proportional\": os.path.join(\"eoles/outputs/0510_S3_N1/0511_035113_MWh_insulation_S3_N1\"),\n",
    "               # \"Insulation technical \\n optimum\": os.path.join(\"eoles/outputs/0828_S3_N1/0826_154702_centralized_insulation_S3_N1\"),\n",
    "               \"Insulation technical \\n optimum 2y\": os.path.join(\"eoles/outputs/0828_S3_N1/0827_154945_centralized_insulation_S3_N1_2y\"),\n",
    "               # \"MWh\": os.path.join(\"eoles/outputs/0506_greenfield_S3_N1/0509_130427_MWh_insulation_greenfield_S3_N1\"),\n",
    "               }\n",
    "\n",
    "results_resirf = {}\n",
    "for path, name_config in zip(dict_output.values(), [n for n in dict_output.keys()]):\n",
    "    with open(os.path.join(path, 'coupling_results.pkl'), \"rb\") as file:\n",
    "        output = load(file)\n",
    "        results_resirf[name_config] = output[\"Output global ResIRF ()\"]\n",
    "\n",
    "folder=os.path.join(\"eoles/outputs/comparison/0905_S3_N1_2y\")\n",
    "# date = datetime.datetime.now().strftime(\"%m%d_%H%M%S\")\n",
    "# folder = os.path.join(folder, f'{date}_S3_N1')\n",
    "if not os.path.isdir(folder):\n",
    "    os.mkdir(folder)\n",
    "\n",
    "# Plots coupling\n",
    "# coordinates = {\n",
    "#     'Global renovation': (20, -20),\n",
    "#     'Proportional': (20, 5)\n",
    "# }\n",
    "\n",
    "total_system_costs_df, consumption_savings_tot_df, complete_system_costs_2050_df = comparison_simulations(\n",
    "    dict_output, ref=\"Uniform 2y\", greenfield=True, health=True, save_path=folder, carbon_constraint=True, percent=True, y_min=0, x_min=0, x_max=35, rotation=90, coordinates=None, smallest_size=100, biggest_size=600, fontsize=20, pdf=True)\n",
    "\n",
    "# # Plots ResIRF\n",
    "results_resirf[\"Reference\"] = results_resirf.pop(\"Uniform 2y\")\n",
    "plot_compare_scenarios(results_resirf, folder=folder, quintiles=True)"
   ],
   "metadata": {
    "collapsed": false,
    "ExecuteTime": {
     "end_time": "2023-09-05T09:00:11.744166Z",
     "start_time": "2023-09-05T08:59:59.552820Z"
    }
   }
  },
  {
   "cell_type": "code",
   "execution_count": null,
   "outputs": [],
   "source": [],
   "metadata": {
    "collapsed": false
   }
  }
 ],
 "metadata": {
  "kernelspec": {
   "display_name": "Python 3",
   "language": "python",
   "name": "python3"
  },
  "language_info": {
   "codemirror_mode": {
    "name": "ipython",
    "version": 2
   },
   "file_extension": ".py",
   "mimetype": "text/x-python",
   "name": "python",
   "nbconvert_exporter": "python",
   "pygments_lexer": "ipython2",
   "version": "2.7.6"
  }
 },
 "nbformat": 4,
 "nbformat_minor": 0
}
